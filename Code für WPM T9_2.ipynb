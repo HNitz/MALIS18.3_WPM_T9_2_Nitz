{
 "cells": [
  {
   "cell_type": "markdown",
   "metadata": {},
   "source": [
    "# Code für WPM T9_2: Erster Entwurf"
   ]
  },
  {
   "cell_type": "markdown",
   "metadata": {},
   "source": [
    "1. Grobstruktur überlegen "
   ]
  },
  {
   "cell_type": "markdown",
   "metadata": {},
   "source": [
    "2. Code in Hauptcode und Teilcodes gliedern\n",
    "\n"
   ]
  },
  {
   "cell_type": "markdown",
   "metadata": {},
   "source": [
    "2.1 Hauptfunktion"
   ]
  },
  {
   "cell_type": "code",
   "execution_count": null,
   "metadata": {},
   "outputs": [],
   "source": [
    "def deleteExpiredPersonalData "
   ]
  },
  {
   "cell_type": "markdown",
   "metadata": {},
   "source": [
    "2.2 Einzelne Codes definieren : get data, check data, delete data "
   ]
  },
  {
   "cell_type": "markdown",
   "metadata": {},
   "source": [
    "get data: import oder dummies schreiben (Testdaten, die in Variablen gespeichert werden)"
   ]
  },
  {
   "cell_type": "markdown",
   "metadata": {},
   "source": [
    " check data: siehe 5. \n"
   ]
  },
  {
   "cell_type": "markdown",
   "metadata": {},
   "source": [
    "3. einen String für jeden Datentyp, der vorkommen kann: name, adresse, profession, expiration date, consent\n",
    "\n"
   ]
  },
  {
   "cell_type": "markdown",
   "metadata": {},
   "source": [
    "string-Liste mit 5 Elementen; \n",
    "Jede Liste hat versch. Dictionaries gespeichert\n"
   ]
  },
  {
   "cell_type": "markdown",
   "metadata": {},
   "source": [
    "verschiedene Daten-KOmbinationen kristallisieren sich heraus, mit denen unterschiedlich umgegangen werden muss (löschen oder nicht)\n",
    "-\tMuss gelöscht werden, da expitationDate erreicht und kein Consent zum Speichern\n",
    "-\tKann gelöscht werden, aber Consent zum Speichern, da nicht löschen\n",
    "-\tMuss nicht gelöscht werden, da zahlungsrelevante Daten\n",
    "-\tMuss nicht gelöscht, da expitationDate noch nicht erreicht\n"
   ]
  },
  {
   "cell_type": "markdown",
   "metadata": {},
   "source": [
    "4. dictionaries für Datensätze (Zuweisung von Werten; Zuweisung von key und value im dictionary)\n",
    "für den Workflow muss festgelegt werden, was in welchen Variablen gespeichert wurde; Information liegt in dictionaries \n"
   ]
  },
  {
   "cell_type": "markdown",
   "metadata": {},
   "source": [
    "5. Eigentliche Operation ausführen"
   ]
  },
  {
   "cell_type": "markdown",
   "metadata": {},
   "source": [
    "Liste an tasks generieren, die abgearbeitet werden muss"
   ]
  },
  {
   "cell_type": "markdown",
   "metadata": {},
   "source": [
    "Bsp. für jede Aktivität Auslaufdatum prüfen, ob Aktivität vorbei ist\n",
    "                                     "
   ]
  },
  {
   "cell_type": "code",
   "execution_count": null,
   "metadata": {},
   "outputs": [],
   "source": [
    "def checkIfDateHasAlreadyPassed \n"
   ]
  },
  {
   "cell_type": "markdown",
   "metadata": {},
   "source": [
    "dabei Py-Funktion datetime nutzen sowie"
   ]
  },
  {
   "cell_type": "code",
   "execution_count": null,
   "metadata": {},
   "outputs": [],
   "source": [
    " if (date) < now return True  else: return False"
   ]
  },
  {
   "cell_type": "markdown",
   "metadata": {},
   "source": [
    "Bsp: prüfen, ob consent vorliegt"
   ]
  },
  {
   "cell_type": "code",
   "execution_count": null,
   "metadata": {},
   "outputs": [],
   "source": [
    "def checkIfConsentIsGiven "
   ]
  },
  {
   "cell_type": "markdown",
   "metadata": {},
   "source": [
    " falls ja, mache nichts\n",
    "\t\t\tfalls nein, lösche()\n"
   ]
  },
  {
   "cell_type": "markdown",
   "metadata": {},
   "source": [
    "Bsp: prüfen, ob Daten zahlungsrelevant?\n",
    "\n",
    " falls ja, prüfe, ob 10 Jahre vergangen sind\n",
    "\t\t falls ja, lösche()\n",
    "         falls nein, mache nichts\n",
    "\n"
   ]
  },
  {
   "cell_type": "markdown",
   "metadata": {},
   "source": [
    "6. Ende: "
   ]
  },
  {
   "cell_type": "markdown",
   "metadata": {},
   "source": [
    "Codieren, was mit welchen Daten passieren soll"
   ]
  },
  {
   "cell_type": "markdown",
   "metadata": {},
   "source": [
    "iterativ für jeden Datensatz  prüfen, ob bestimmten Bedingungen gelten; falls ja - in Löschen-Liste"
   ]
  },
  {
   "cell_type": "code",
   "execution_count": null,
   "metadata": {},
   "outputs": [],
   "source": [
    "def get data   Endprodukt: return data (dataToDelete, dataToDeleteButWithConsent, dataNotExpired) "
   ]
  },
  {
   "cell_type": "markdown",
   "metadata": {},
   "source": [
    "zu löschende Daten ausgeben:"
   ]
  },
  {
   "cell_type": "code",
   "execution_count": null,
   "metadata": {},
   "outputs": [],
   "source": [
    "print (\"delete the following datasets\")"
   ]
  },
  {
   "cell_type": "markdown",
   "metadata": {},
   "source": [
    "löschen: "
   ]
  },
  {
   "cell_type": "code",
   "execution_count": null,
   "metadata": {},
   "outputs": [],
   "source": [
    "deletExpiredPersonalData ()"
   ]
  }
 ],
 "metadata": {
  "kernelspec": {
   "display_name": "Python 3",
   "language": "python",
   "name": "python3"
  },
  "language_info": {
   "codemirror_mode": {
    "name": "ipython",
    "version": 3
   },
   "file_extension": ".py",
   "mimetype": "text/x-python",
   "name": "python",
   "nbconvert_exporter": "python",
   "pygments_lexer": "ipython3",
   "version": "3.7.3"
  }
 },
 "nbformat": 4,
 "nbformat_minor": 2
}
