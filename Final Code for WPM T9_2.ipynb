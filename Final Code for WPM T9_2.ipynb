{
 "cells": [
  {
   "cell_type": "code",
   "execution_count": 3,
   "metadata": {},
   "outputs": [],
   "source": [
    "import datetime\n",
    "from datetime import date\n"
   ]
  },
  {
   "cell_type": "markdown",
   "metadata": {},
   "source": [
    "datetime ist eine bestehende Python-Bibliothek"
   ]
  },
  {
   "cell_type": "code",
   "execution_count": 4,
   "metadata": {},
   "outputs": [],
   "source": [
    "def MAIN_FUNCTION_deleteExpiredPersonalData():\n",
    "    dataFromDatabase = getData()\n",
    "    dataToDelete = getDataToDelete(dataFromDatabase) \n",
    "    deleteData(dataToDelete)"
   ]
  },
  {
   "cell_type": "markdown",
   "metadata": {},
   "source": [
    "Definieren der Hauptfunktion"
   ]
  },
  {
   "cell_type": "code",
   "execution_count": 5,
   "metadata": {},
   "outputs": [],
   "source": [
    "\n",
    "def checkIfDateHasAlreadyPassed(data):\n",
    "    dataDate = data['expirationDate']\n",
    "    now = datetime.datetime.now()\n",
    "    if(dataDate < now):\n",
    "        return True\n",
    "    else:\n",
    "        return False"
   ]
  },
  {
   "cell_type": "markdown",
   "metadata": {},
   "source": [
    "Definieren einiger Nebenfunktionen, die nacheinander durchlaufen, um die Daten auf ihren Status (löschen, löschen-aber-Erlaubnis-zum-Speichern oder Speichern) zu testen"
   ]
  },
  {
   "cell_type": "code",
   "execution_count": 6,
   "metadata": {},
   "outputs": [],
   "source": [
    "def checkIfConsentGiven(data):\n",
    "    dataConsent = data['consent']\n",
    "    return dataConsent "
   ]
  },
  {
   "cell_type": "markdown",
   "metadata": {},
   "source": [
    "Woher stammen die Quelledaten? Da kein Zugang zu den Datenbanken besteht, wird zu Übungszwecken mit Test-Daten gearbeitet - hierzu werden einige Datensätze simuliert"
   ]
  },
  {
   "cell_type": "markdown",
   "metadata": {},
   "source": [
    "def getData():\n",
    "    print(\"Generating test data\")\n",
    "\n",
    "    dataToDelete = {}\n",
    "    dataToDelete['expirationDate'] = datetime.datetime(2018, 5, 5)\n",
    "    dataToDelete['name'] = \"Name ToDelete\"\n",
    "    dataToDelete['address'] = \"Weg 1, Stadt\"\n",
    "    dataToDelete['profession'] = \"Pilot\"\n",
    "    dataToDelete['creditCard'] = \"1234-5678-4321\"\n",
    "    dataToDelete['consent'] = False\n",
    "\n",
    "    dataToDeleteButWithConsent = {}\n",
    "    dataToDeleteButWithConsent['expirationDate'] = datetime.datetime(2018, 5, 5)\n",
    "    dataToDeleteButWithConsent['name'] = \"Name Consent\"\n",
    "    dataToDeleteButWithConsent['address'] = \"Weg 1, Stadt\"\n",
    "    dataToDeleteButWithConsent['profession'] = \"Pilot\"\n",
    "    dataToDeleteButWithConsent['creditCard'] = \"1234-5678-4321\"\n",
    "    dataToDeleteButWithConsent['consent'] = True\n",
    "\n",
    "    dataNotExpired = {}\n",
    "    dataNotExpired['expirationDate'] = datetime.datetime(2020, 5, 5)\n",
    "    dataNotExpired['name'] = \"Name NotExpired\"\n",
    "    dataNotExpired['address'] = \"Weg 1, Stadt\"\n",
    "    dataNotExpired['profession'] = \"Pilot\"\n",
    "    dataNotExpired['creditCard'] = \"1234-5678-4321\"\n",
    "    dataNotExpired['consent'] = False\n",
    "\n",
    "  return [dataToDelete, dataToDeleteButWithConsent, dataNotExpired]"
   ]
  },
  {
   "cell_type": "markdown",
   "metadata": {},
   "source": [
    "alternativ: über pandas oder urllib"
   ]
  },
  {
   "cell_type": "code",
   "execution_count": 9,
   "metadata": {},
   "outputs": [],
   "source": [
    "import pandas as pd"
   ]
  },
  {
   "cell_type": "code",
   "execution_count": 10,
   "metadata": {},
   "outputs": [],
   "source": [
    "\n",
    "\n",
    "import urllib.request\n",
    "\n"
   ]
  },
  {
   "cell_type": "code",
   "execution_count": 12,
   "metadata": {},
   "outputs": [],
   "source": [
    "def extractDataToDelete(data):\n",
    "    toReturn = []\n",
    "    for element in data:\n",
    "        if(checkIfDateHasAlreadyPassed(element) and not checkIfConsentGiven(element)):\n",
    "            toReturn.append(element)\n",
    "\n",
    "     return toReturn   "
   ]
  },
  {
   "cell_type": "markdown",
   "metadata": {},
   "source": [
    "for-Schleife: nach und nach wird für jeden Datensatz geprüft, ob die angegebenen Bedingungen gelten; falls ja, werden sie der zu löschenden Liste hinzugefügt"
   ]
  },
  {
   "cell_type": "markdown",
   "metadata": {},
   "source": [
    "  return toReturn   =  Funktion gibt die Variable zurück, die am Anfang definiert wurde\n"
   ]
  },
  {
   "cell_type": "code",
   "execution_count": 13,
   "metadata": {},
   "outputs": [],
   "source": [
    "\n",
    "def deleteData(data):\n",
    "    print(\"delete the following datasets:\")\n",
    "    for x in data:\n",
    "            print(x)"
   ]
  },
  {
   "cell_type": "code",
   "execution_count": null,
   "metadata": {},
   "outputs": [],
   "source": [
    "\n",
    "MAIN_FUNCTION_deleteExpiredPersonalData()"
   ]
  },
  {
   "cell_type": "markdown",
   "metadata": {},
   "source": [
    "bisher wurde nur definiert, nicht ausgeführt; jetzt geht Python alles durch und ruft die Funktion auf"
   ]
  },
  {
   "cell_type": "code",
   "execution_count": null,
   "metadata": {},
   "outputs": [],
   "source": []
  }
 ],
 "metadata": {
  "kernelspec": {
   "display_name": "Python 3",
   "language": "python",
   "name": "python3"
  },
  "language_info": {
   "codemirror_mode": {
    "name": "ipython",
    "version": 3
   },
   "file_extension": ".py",
   "mimetype": "text/x-python",
   "name": "python",
   "nbconvert_exporter": "python",
   "pygments_lexer": "ipython3",
   "version": "3.7.3"
  }
 },
 "nbformat": 4,
 "nbformat_minor": 2
}
